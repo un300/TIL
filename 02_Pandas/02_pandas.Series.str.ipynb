{
 "cells": [
  {
   "cell_type": "markdown",
   "metadata": {},
   "source": [
    "###### 2021-04-06"
   ]
  },
  {
   "cell_type": "markdown",
   "metadata": {},
   "source": [
    "# Series.str"
   ]
  },
  {
   "cell_type": "code",
   "execution_count": 2,
   "metadata": {},
   "outputs": [],
   "source": [
    "import pandas as pd\n",
    "import numpy as np"
   ]
  },
  {
   "cell_type": "markdown",
   "metadata": {},
   "source": [
    "## Series.str.`blank`\n",
    "- blank\n",
    "   - lower()\n",
    "   - upper()\n",
    "   - title()\n",
    "   - capitalize()\n",
    "   - swapcase()"
   ]
  },
  {
   "cell_type": "code",
   "execution_count": 7,
   "metadata": {},
   "outputs": [
    {
     "name": "stdout",
     "output_type": "stream",
     "text": [
      "0                 lower\n",
      "1              CAPITALS\n",
      "2    this is a sentence\n",
      "3              SwApCaSe\n",
      "dtype: object\n",
      "0                 lower\n",
      "1              capitals\n",
      "2    this is a sentence\n",
      "3              swapcase\n",
      "dtype: object\n",
      "0                 LOWER\n",
      "1              CAPITALS\n",
      "2    THIS IS A SENTENCE\n",
      "3              SWAPCASE\n",
      "dtype: object\n",
      "0                 Lower\n",
      "1              Capitals\n",
      "2    This Is A Sentence\n",
      "3              Swapcase\n",
      "dtype: object\n",
      "0                 Lower\n",
      "1              Capitals\n",
      "2    This is a sentence\n",
      "3              Swapcase\n",
      "dtype: object\n",
      "0                 LOWER\n",
      "1              capitals\n",
      "2    THIS IS A SENTENCE\n",
      "3              sWaPcAsE\n",
      "dtype: object\n",
      "0                 lower\n",
      "1              capitals\n",
      "2    this is a sentence\n",
      "3              swapcase\n",
      "dtype: object\n"
     ]
    }
   ],
   "source": [
    "s = pd.Series(['lower', 'CAPITALS', 'this is a sentence', 'SwApCaSe'])\n",
    "print(s)\n",
    "print(s.str.lower())\n",
    "print(s.str.upper())\n",
    "print(s.str.title())\n",
    "print(s.str.capitalize())\n",
    "print(s.str.swapcase())\n",
    "print(s.str.casefold())"
   ]
  },
  {
   "cell_type": "markdown",
   "metadata": {},
   "source": [
    "## Series.str.cat"
   ]
  },
  {
   "cell_type": "code",
   "execution_count": 9,
   "metadata": {},
   "outputs": [
    {
     "name": "stdout",
     "output_type": "stream",
     "text": [
      "a b d\n",
      "a-b-?-d\n"
     ]
    }
   ],
   "source": [
    "s = pd.Series(['a', 'b', np.nan, 'd'])\n",
    "print(s.str.cat(sep=' '))  # Na값은 무시되고 텍스트가 붙여짐\n",
    "print(s.str.cat(sep='-', na_rep='?'))  # Na값은 ?로 대체하고 텍스트가 붙여짐"
   ]
  },
  {
   "cell_type": "code",
   "execution_count": 10,
   "metadata": {},
   "outputs": [
    {
     "name": "stdout",
     "output_type": "stream",
     "text": [
      "0    a,A\n",
      "1    b,B\n",
      "2    NaN\n",
      "3    d,D\n",
      "dtype: object\n"
     ]
    }
   ],
   "source": [
    "s = pd.Series(['a', 'b', np.nan, 'd'])\n",
    "print(s.str.cat(['A', 'B', 'C', 'D'], sep=','))  # 시리즈 s와 리스트 ['A', 'B', 'C', 'D']가 서로 원소끼리 붙어버림"
   ]
  },
  {
   "cell_type": "markdown",
   "metadata": {},
   "source": [
    "## Series.str.center"
   ]
  },
  {
   "cell_type": "code",
   "execution_count": 12,
   "metadata": {},
   "outputs": [
    {
     "data": {
      "text/plain": [
       "0    aaaa\n",
       "1    bbbx\n",
       "2    xccx\n",
       "3    xdxx\n",
       "dtype: object"
      ]
     },
     "execution_count": 12,
     "metadata": {},
     "output_type": "execute_result"
    }
   ],
   "source": [
    "s = pd.Series(['aaaa', 'bbb', 'cc', 'd'])\n",
    "s.str.center(4, 'x')  # 텍스트의 양 옆을 'x'로 채워버림"
   ]
  },
  {
   "cell_type": "markdown",
   "metadata": {},
   "source": [
    "## Series.str.count()"
   ]
  },
  {
   "cell_type": "code",
   "execution_count": 13,
   "metadata": {
    "scrolled": true
   },
   "outputs": [
    {
     "data": {
      "text/plain": [
       "0    0.0\n",
       "1    0.0\n",
       "2    2.0\n",
       "3    2.0\n",
       "4    NaN\n",
       "5    0.0\n",
       "6    1.0\n",
       "dtype: float64"
      ]
     },
     "execution_count": 13,
     "metadata": {},
     "output_type": "execute_result"
    }
   ],
   "source": [
    "s = pd.Series(['A', 'B', 'Aaba', 'Baca', np.nan, 'CABA', 'cat'])\n",
    "s.str.count('a')"
   ]
  },
  {
   "cell_type": "code",
   "execution_count": null,
   "metadata": {},
   "outputs": [],
   "source": []
  },
  {
   "cell_type": "code",
   "execution_count": null,
   "metadata": {},
   "outputs": [],
   "source": []
  },
  {
   "cell_type": "code",
   "execution_count": null,
   "metadata": {},
   "outputs": [],
   "source": []
  },
  {
   "cell_type": "code",
   "execution_count": null,
   "metadata": {},
   "outputs": [],
   "source": []
  },
  {
   "cell_type": "code",
   "execution_count": null,
   "metadata": {},
   "outputs": [],
   "source": []
  },
  {
   "cell_type": "code",
   "execution_count": null,
   "metadata": {},
   "outputs": [],
   "source": []
  },
  {
   "cell_type": "code",
   "execution_count": null,
   "metadata": {},
   "outputs": [],
   "source": []
  },
  {
   "cell_type": "code",
   "execution_count": null,
   "metadata": {},
   "outputs": [],
   "source": []
  }
 ],
 "metadata": {
  "kernelspec": {
   "display_name": "Python 3",
   "language": "python",
   "name": "python3"
  },
  "language_info": {
   "codemirror_mode": {
    "name": "ipython",
    "version": 3
   },
   "file_extension": ".py",
   "mimetype": "text/x-python",
   "name": "python",
   "nbconvert_exporter": "python",
   "pygments_lexer": "ipython3",
   "version": "3.8.5"
  }
 },
 "nbformat": 4,
 "nbformat_minor": 4
}
